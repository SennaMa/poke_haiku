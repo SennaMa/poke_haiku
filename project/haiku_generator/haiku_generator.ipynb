{
 "cells": [
  {
   "cell_type": "code",
   "execution_count": 44,
   "metadata": {},
   "outputs": [],
   "source": [
    "import tensorflow as tf\n",
    "\n",
    "from tensorflow.keras.preprocessing.sequence import pad_sequences\n",
    "from tensorflow.keras.layers import Embedding, LSTM, Dense, Bidirectional\n",
    "from tensorflow.keras.preprocessing.text import Tokenizer\n",
    "from tensorflow.keras.models import Sequential\n",
    "from tensorflow.keras.optimizers import Adam\n",
    "import numpy as np \n",
    "import pandas as pd\n",
    "\n",
    "from nltk.corpus import cmudict"
   ]
  },
  {
   "cell_type": "code",
   "execution_count": 7,
   "metadata": {},
   "outputs": [],
   "source": [
    "df = pd.read_csv('sample_haiku.csv')\n",
    "corpus = df['haiku']"
   ]
  },
  {
   "cell_type": "code",
   "execution_count": 65,
   "metadata": {},
   "outputs": [],
   "source": [
    "# port as util function\n",
    "def syllables(word):\n",
    "    # this isn't perfect. example: jesse\n",
    "    count = 0\n",
    "    vowels = 'aeiouy'\n",
    "    word = word.lower()\n",
    "    if word[0] in vowels:\n",
    "        count +=1\n",
    "    for index in range(1,len(word)):\n",
    "        if word[index] in vowels and word[index-1] not in vowels:\n",
    "            count +=1\n",
    "    if word.endswith('e'):\n",
    "        count -= 1\n",
    "    if word.endswith('le'):\n",
    "        count += 1\n",
    "    if count == 0:\n",
    "        count += 1\n",
    "    return [count]\n",
    "\n",
    "d = cmudict.dict()\n",
    "def nysyl(word):\n",
    "    try:\n",
    "        return [len(list(y for y in x if y[-1].isdigit())) for x in d[word.lower()]]\n",
    "    except KeyError:\n",
    "        #if word not found in cmudict\n",
    "        return syllables(word)"
   ]
  },
  {
   "cell_type": "code",
   "execution_count": 6,
   "metadata": {},
   "outputs": [],
   "source": [
    "vocab_size = 10000\n",
    "embedding_dim = 16\n",
    "max_length = 50\n",
    "trunc_type='pre'\n",
    "padding_type='pre'\n",
    "oov_token = \"<OOV>\"\n",
    "training_size = 10000"
   ]
  },
  {
   "cell_type": "code",
   "execution_count": 8,
   "metadata": {},
   "outputs": [
    {
     "name": "stdout",
     "output_type": "stream",
     "text": [
      "{'the': 1, 'a': 2, 'of': 3, 'to': 4, 'again': 5, 'world': 6, 'and': 7, 'erase': 8, 'sitting': 9, 'quietly': 10, 'murkrow': 11, 'waits': 12, 'for': 13, 'dinner': 14, 'unlucky': 15, 'ratatta': 16, 'graceful': 17, 'celebi': 18, 'spirit': 19, 'forest': 20, 'can': 21, 'time': 22, 'travel': 23, 'anywhere': 24, 'ekans': 25, 'slithering': 26, 'so': 27, 'close': 28, 'ground': 29, 'he': 30, 'creeps': 31, 'waiting': 32, 'evolve': 33, 'an': 34, 'old': 35, 'silent': 36, 'pond': 37, 'frog': 38, 'jumps': 39, 'into': 40, 'pond—': 41, 'splash': 42, 'silence': 43, 'dew': 44, 'within': 45, 'every': 46, 'dewdrop': 47, 'struggle': 48, 'light': 49, 'candle': 50, 'is': 51, 'transferred': 52, 'another': 53, 'candle—': 54, 'spring': 55, 'twilight': 56, 'i': 57, 'write': 58, 'rewrite': 59, 'then': 60, 'poppy': 61, 'blooms': 62}\n",
      "63\n"
     ]
    }
   ],
   "source": [
    "tokenizer = Tokenizer()\n",
    "tokenizer.fit_on_texts(corpus)\n",
    "total_words = len(tokenizer.word_index) + 1 # adding one because we're not using an oov token\n",
    "\n",
    "print(tokenizer.word_index)\n",
    "print(total_words)"
   ]
  },
  {
   "cell_type": "code",
   "execution_count": 9,
   "metadata": {},
   "outputs": [],
   "source": [
    "input_sequences = []\n",
    "for line in corpus:\n",
    "    token_list = tokenizer.texts_to_sequences([line])[0] # [0] retreives the list, since it's a list within a list\n",
    "    for i in range(1, len(token_list)):\n",
    "        n_gram_sequence = token_list[:i+1]\n",
    "        input_sequences.append(n_gram_sequence)\n",
    "    \n",
    "# pad sequences\n",
    "max_sequence_len = max([len(x) for x in input_sequences])\n",
    "# pad_sequences creates a list within a list\n",
    "# np.array simply turns it into a numpy array for tf v 2.0\n",
    "input_sequences = np.array(pad_sequences(input_sequences, maxlen=max_sequence_len, padding='pre')) "
   ]
  },
  {
   "cell_type": "code",
   "execution_count": 10,
   "metadata": {},
   "outputs": [
    {
     "data": {
      "text/plain": [
       "array([10,  1, 11, 12, 13, 14, 15, 16, 18,  1, 19,  3,  1, 20, 21, 22, 23,\n",
       "       24, 26, 27, 28,  4,  1, 29, 30, 31, 32,  4, 33, 35, 36, 37,  2, 38,\n",
       "       39, 40,  1, 41, 42, 43,  5,  6,  3, 44,  7, 45, 46, 47,  2,  6,  3,\n",
       "       48, 49,  3,  2, 50, 51, 52,  4, 53, 54, 55, 56, 58,  8, 59,  8,  5,\n",
       "        7, 60,  2, 61, 62], dtype=int32)"
      ]
     },
     "execution_count": 10,
     "metadata": {},
     "output_type": "execute_result"
    }
   ],
   "source": [
    "# input_sequences[:,:-1]\n",
    "input_sequences[:,-1]"
   ]
  },
  {
   "cell_type": "code",
   "execution_count": 11,
   "metadata": {},
   "outputs": [],
   "source": [
    "# create predictors and label\n",
    "# input_sequence is now a 2D array, which is why you need to slice using [:,:].\n",
    "    # slice all arrays and in the inner arrays, start from 0 and stop at -1 (aka stop at the last element)\n",
    "    # the last value will be y, which will be the predicted word\n",
    "\n",
    "# we want our labels to be categorical and one-hot encoded. What this means is that the label will be 1 and everything else in the array is 0\n",
    "xs, labels = input_sequences[:,:-1], input_sequences[:,-1]\n",
    "ys = tf.keras.utils.to_categorical(labels, num_classes=total_words)"
   ]
  },
  {
   "cell_type": "code",
   "execution_count": 48,
   "metadata": {},
   "outputs": [
    {
     "name": "stdout",
     "output_type": "stream",
     "text": [
      "[[  0   0   0 ...   0   0  65]\n",
      " [  0   0   0 ...   0  65 110]\n",
      " [  0   0   0 ...  65 110  65]\n",
      " ...\n",
      " [  0   0   0 ...   3   2   1]\n",
      " [  0   0   0 ...   2   1   7]\n",
      " [  0   0   0 ...   1   7   5]]\n"
     ]
    }
   ],
   "source": [
    "print(xs)"
   ]
  },
  {
   "cell_type": "code",
   "execution_count": 49,
   "metadata": {},
   "outputs": [
    {
     "name": "stdout",
     "output_type": "stream",
     "text": [
      "[110  65 111  19  46 112 113  66   4  33 114  26  12 115 116  47  10  34\n",
      " 117  48   5   9  67  11  26  12 119 120  20  19   4 121 124  20  68  69\n",
      "  22 125  10 126 127 129 130 131 132  17 133 134  27   9  23  16  13  10\n",
      "  28   9  49  16  13  10  28   9  50  52  35  40   4  53  16  13   9  23\n",
      "  54  24   6   3   2   1   7   5   8   6   3   2   1   7   5   8   6   3\n",
      "   2   1   7   5   8   6   3   2   1   7   5   8  70  71  25  29 135 136\n",
      "  55  70  71  27 137  72 139  10  73  10  73  12  74 140  14 142  12  22\n",
      " 143  10 144 145 146   4 147  34 149  30  12 150  27 151 152 153 154  11\n",
      " 155  56 156  57  40   3 157 158  75  29  76 160  77  48 161  13  75 162\n",
      "   4 163  57  25 164  27 165   4 166 167 168 169 170  78  78  19 171 172\n",
      "  80  36  37 173  31  81  29 174  25  29 175  82  12 176 177 178  34  80\n",
      " 179  25 180 181  12  22   4 182  83  31  58  12 183  20  20  27   9  67\n",
      "  18  12  22   9 185 186 187  12 188 189  85  85 190 191  68  11  86  47\n",
      "   9 192 193  83  36 194  11 195 196  18  16  13  10  28   9  49  16  13\n",
      "  10  28   9  50  52  35  40   4  53  16  13   9  23  54  24   6   3   2\n",
      "   1   7   5   8   6   3   2   1   7   5   8   6   3   2   1   7   5   8\n",
      "   6   3   2   1   7   5   8  87   9  66  38 197 198 199 200  38 201  25\n",
      "  26 202  38  88   9 203 204  56 205  38  11  79 206 207 208 209  56 210\n",
      "  38  12   1  87  36  34  89  59  90  72 211  41  59  42  19 212 213  20\n",
      " 214 215 216  42  92  58  69 217  92  27   4 218  23  11  24  93  31  94\n",
      " 219  26   2   9  95  61   9  95 220  81 221  12 222 223   2 224 225  20\n",
      " 227   3 228  62   3 229  10  96  84   2  88 230  10  96  20  23  11  24\n",
      "  93  31  94  16  13  10  28   9  49  16  13  10  28   9  50  52  35  40\n",
      "   4  53  16  13   9  23  54  24   6   3   2   1   7   5   8   6   3   2\n",
      "   1   7   5   8   6   3   2   1   7   5   8   6   3   2   1   7   5   8\n",
      " 232 233 234  19 235  24  61  19 236 237  19 238 239  21  18 240  37  17\n",
      "  37  17  11 241  47 242 243  18  14  16  37  17  11  39  18  97  35  98\n",
      "   4  99  17  11  39  18 100 101  60   4  46 102   4 104  62  31 105  17\n",
      "  11  32  32  32  18  14  16  37  17  11  39  18  97  35  98   4  99  17\n",
      "  11  39  18 100 101  60   4  46 102   4 104  62  31 105  17  11  32  32\n",
      "  32  33  43  22  63  64  13 244 245  33  43  22  63  64  13 246 247 106\n",
      "  29 107  41 108  42  89  59  90   3   9 249   4  34 250  74 251 252  33\n",
      "  43  22  63  64  13 253 254  33  43  86  76 255 256  77 106  29 107  41\n",
      " 108  42  57  19 257   4 258 259  82 109  24  61 109 260  15  30   4  44\n",
      "  45   2  15  15  15  30   4  44  45   2  15 261  39  15  15  30   4  44\n",
      "  45   2  15 262  15  15  30   4  44  45   2  15  15   6   3   2   1   7\n",
      "   5   8   6   3   2   1   7   5   8   6   3   2   1   7   5   8   6   3\n",
      "   2   1   7   5   8   6   3   2   1   7   5   8   6   3   2   1   7   5\n",
      "   8   6   3   2   1   7   5   8   6   3   2   1   7   5   8]\n"
     ]
    }
   ],
   "source": [
    "print(labels)"
   ]
  },
  {
   "cell_type": "code",
   "execution_count": 50,
   "metadata": {},
   "outputs": [
    {
     "name": "stdout",
     "output_type": "stream",
     "text": [
      "[[0. 0. 0. ... 0. 0. 0.]\n",
      " [0. 0. 0. ... 0. 0. 0.]\n",
      " [0. 0. 0. ... 0. 0. 0.]\n",
      " ...\n",
      " [0. 0. 0. ... 0. 0. 0.]\n",
      " [0. 0. 0. ... 0. 0. 0.]\n",
      " [0. 0. 0. ... 0. 0. 0.]]\n"
     ]
    }
   ],
   "source": [
    "print(ys)"
   ]
  },
  {
   "cell_type": "code",
   "execution_count": 55,
   "metadata": {},
   "outputs": [
    {
     "name": "stdout",
     "output_type": "stream",
     "text": [
      "[  0   0   0   0   0   0   0   0   0   0   0   0   0   0  65 110  65 111\n",
      "  19  46 112]\n"
     ]
    }
   ],
   "source": [
    "# \n",
    "print(xs[6])"
   ]
  },
  {
   "cell_type": "code",
   "execution_count": 56,
   "metadata": {},
   "outputs": [
    {
     "name": "stdout",
     "output_type": "stream",
     "text": [
      "[0. 0. 0. 0. 0. 0. 0. 0. 0. 0. 0. 0. 0. 0. 0. 0. 0. 0. 0. 0. 0. 0. 0. 0.\n",
      " 0. 0. 0. 0. 0. 0. 0. 0. 0. 0. 0. 0. 0. 0. 0. 0. 0. 0. 0. 0. 0. 0. 0. 0.\n",
      " 0. 0. 0. 0. 0. 0. 0. 0. 0. 0. 0. 0. 0. 0. 0. 0. 0. 0. 0. 0. 0. 0. 0. 0.\n",
      " 0. 0. 0. 0. 0. 0. 0. 0. 0. 0. 0. 0. 0. 0. 0. 0. 0. 0. 0. 0. 0. 0. 0. 0.\n",
      " 0. 0. 0. 0. 0. 0. 0. 0. 0. 0. 0. 0. 0. 0. 0. 0. 0. 1. 0. 0. 0. 0. 0. 0.\n",
      " 0. 0. 0. 0. 0. 0. 0. 0. 0. 0. 0. 0. 0. 0. 0. 0. 0. 0. 0. 0. 0. 0. 0. 0.\n",
      " 0. 0. 0. 0. 0. 0. 0. 0. 0. 0. 0. 0. 0. 0. 0. 0. 0. 0. 0. 0. 0. 0. 0. 0.\n",
      " 0. 0. 0. 0. 0. 0. 0. 0. 0. 0. 0. 0. 0. 0. 0. 0. 0. 0. 0. 0. 0. 0. 0. 0.\n",
      " 0. 0. 0. 0. 0. 0. 0. 0. 0. 0. 0. 0. 0. 0. 0. 0. 0. 0. 0. 0. 0. 0. 0. 0.\n",
      " 0. 0. 0. 0. 0. 0. 0. 0. 0. 0. 0. 0. 0. 0. 0. 0. 0. 0. 0. 0. 0. 0. 0. 0.\n",
      " 0. 0. 0. 0. 0. 0. 0. 0. 0. 0. 0. 0. 0. 0. 0. 0. 0. 0. 0. 0. 0. 0. 0.]\n"
     ]
    }
   ],
   "source": [
    "# \n",
    "print(ys[6])"
   ]
  },
  {
   "cell_type": "code",
   "execution_count": 28,
   "metadata": {},
   "outputs": [
    {
     "name": "stderr",
     "output_type": "stream",
     "text": [
      "WARNING:absl:At this time, the v2.11+ optimizer `tf.keras.optimizers.Adam` runs slowly on M1/M2 Macs, please use the legacy Keras optimizer instead, located at `tf.keras.optimizers.legacy.Adam`.\n",
      "WARNING:absl:`lr` is deprecated in Keras optimizer, please use `learning_rate` or use the legacy optimizer, e.g.,tf.keras.optimizers.legacy.Adam.\n"
     ]
    },
    {
     "name": "stdout",
     "output_type": "stream",
     "text": [
      "Epoch 1/100\n",
      "3/3 [==============================] - 1s 8ms/step - loss: 4.1481 - accuracy: 0.0000e+00\n",
      "Epoch 2/100\n",
      "3/3 [==============================] - 0s 7ms/step - loss: 4.1125 - accuracy: 0.1096\n",
      "Epoch 3/100\n",
      "3/3 [==============================] - 0s 8ms/step - loss: 4.0871 - accuracy: 0.1507\n",
      "Epoch 4/100\n",
      "3/3 [==============================] - 0s 9ms/step - loss: 4.0591 - accuracy: 0.1644\n",
      "Epoch 5/100\n",
      "3/3 [==============================] - 0s 8ms/step - loss: 4.0293 - accuracy: 0.1507\n",
      "Epoch 6/100\n",
      "3/3 [==============================] - 0s 10ms/step - loss: 3.9955 - accuracy: 0.1233\n",
      "Epoch 7/100\n",
      "3/3 [==============================] - 0s 9ms/step - loss: 3.9590 - accuracy: 0.1096\n",
      "Epoch 8/100\n",
      "3/3 [==============================] - 0s 8ms/step - loss: 3.9158 - accuracy: 0.0959\n",
      "Epoch 9/100\n",
      "3/3 [==============================] - 0s 10ms/step - loss: 3.8731 - accuracy: 0.0822\n",
      "Epoch 10/100\n",
      "3/3 [==============================] - 0s 9ms/step - loss: 3.8255 - accuracy: 0.0822\n",
      "Epoch 11/100\n",
      "3/3 [==============================] - 0s 9ms/step - loss: 3.7732 - accuracy: 0.0959\n",
      "Epoch 12/100\n",
      "3/3 [==============================] - 0s 11ms/step - loss: 3.7230 - accuracy: 0.0822\n",
      "Epoch 13/100\n",
      "3/3 [==============================] - 0s 11ms/step - loss: 3.6664 - accuracy: 0.1096\n",
      "Epoch 14/100\n",
      "3/3 [==============================] - 0s 10ms/step - loss: 3.6063 - accuracy: 0.1644\n",
      "Epoch 15/100\n",
      "3/3 [==============================] - 0s 10ms/step - loss: 3.5462 - accuracy: 0.1781\n",
      "Epoch 16/100\n",
      "3/3 [==============================] - 0s 10ms/step - loss: 3.4849 - accuracy: 0.1644\n",
      "Epoch 17/100\n",
      "3/3 [==============================] - 0s 9ms/step - loss: 3.4174 - accuracy: 0.1644\n",
      "Epoch 18/100\n",
      "3/3 [==============================] - 0s 10ms/step - loss: 3.3476 - accuracy: 0.1781\n",
      "Epoch 19/100\n",
      "3/3 [==============================] - 0s 9ms/step - loss: 3.2739 - accuracy: 0.2055\n",
      "Epoch 20/100\n",
      "3/3 [==============================] - 0s 9ms/step - loss: 3.2015 - accuracy: 0.2466\n",
      "Epoch 21/100\n",
      "3/3 [==============================] - 0s 9ms/step - loss: 3.1232 - accuracy: 0.2740\n",
      "Epoch 22/100\n",
      "3/3 [==============================] - 0s 10ms/step - loss: 3.0378 - accuracy: 0.2740\n",
      "Epoch 23/100\n",
      "3/3 [==============================] - 0s 9ms/step - loss: 2.9600 - accuracy: 0.3014\n",
      "Epoch 24/100\n",
      "3/3 [==============================] - 0s 16ms/step - loss: 2.8855 - accuracy: 0.3288\n",
      "Epoch 25/100\n",
      "3/3 [==============================] - 0s 11ms/step - loss: 2.8071 - accuracy: 0.3836\n",
      "Epoch 26/100\n",
      "3/3 [==============================] - 0s 9ms/step - loss: 2.7219 - accuracy: 0.4384\n",
      "Epoch 27/100\n",
      "3/3 [==============================] - 0s 9ms/step - loss: 2.6398 - accuracy: 0.4521\n",
      "Epoch 28/100\n",
      "3/3 [==============================] - 0s 9ms/step - loss: 2.5634 - accuracy: 0.4521\n",
      "Epoch 29/100\n",
      "3/3 [==============================] - 0s 9ms/step - loss: 2.4998 - accuracy: 0.4795\n",
      "Epoch 30/100\n",
      "3/3 [==============================] - 0s 10ms/step - loss: 2.4270 - accuracy: 0.5205\n",
      "Epoch 31/100\n",
      "3/3 [==============================] - 0s 11ms/step - loss: 2.3690 - accuracy: 0.4521\n",
      "Epoch 32/100\n",
      "3/3 [==============================] - 0s 10ms/step - loss: 2.2880 - accuracy: 0.4658\n",
      "Epoch 33/100\n",
      "3/3 [==============================] - 0s 10ms/step - loss: 2.2188 - accuracy: 0.4932\n",
      "Epoch 34/100\n",
      "3/3 [==============================] - 0s 10ms/step - loss: 2.1518 - accuracy: 0.5616\n",
      "Epoch 35/100\n",
      "3/3 [==============================] - 0s 10ms/step - loss: 2.0927 - accuracy: 0.5616\n",
      "Epoch 36/100\n",
      "3/3 [==============================] - 0s 11ms/step - loss: 2.0310 - accuracy: 0.5753\n",
      "Epoch 37/100\n",
      "3/3 [==============================] - 0s 10ms/step - loss: 1.9899 - accuracy: 0.5616\n",
      "Epoch 38/100\n",
      "3/3 [==============================] - 0s 10ms/step - loss: 1.9243 - accuracy: 0.5753\n",
      "Epoch 39/100\n",
      "3/3 [==============================] - 0s 9ms/step - loss: 1.8818 - accuracy: 0.6027\n",
      "Epoch 40/100\n",
      "3/3 [==============================] - 0s 11ms/step - loss: 1.8148 - accuracy: 0.6438\n",
      "Epoch 41/100\n",
      "3/3 [==============================] - 0s 10ms/step - loss: 1.7599 - accuracy: 0.6575\n",
      "Epoch 42/100\n",
      "3/3 [==============================] - 0s 9ms/step - loss: 1.7100 - accuracy: 0.7123\n",
      "Epoch 43/100\n",
      "3/3 [==============================] - 0s 9ms/step - loss: 1.6673 - accuracy: 0.7260\n",
      "Epoch 44/100\n",
      "3/3 [==============================] - 0s 10ms/step - loss: 1.6130 - accuracy: 0.7808\n",
      "Epoch 45/100\n",
      "3/3 [==============================] - 0s 11ms/step - loss: 1.5618 - accuracy: 0.7808\n",
      "Epoch 46/100\n",
      "3/3 [==============================] - 0s 10ms/step - loss: 1.5136 - accuracy: 0.8082\n",
      "Epoch 47/100\n",
      "3/3 [==============================] - 0s 15ms/step - loss: 1.4829 - accuracy: 0.7945\n",
      "Epoch 48/100\n",
      "3/3 [==============================] - 0s 10ms/step - loss: 1.4332 - accuracy: 0.8082\n",
      "Epoch 49/100\n",
      "3/3 [==============================] - 0s 10ms/step - loss: 1.4027 - accuracy: 0.8082\n",
      "Epoch 50/100\n",
      "3/3 [==============================] - 0s 9ms/step - loss: 1.3667 - accuracy: 0.8219\n",
      "Epoch 51/100\n",
      "3/3 [==============================] - 0s 10ms/step - loss: 1.3222 - accuracy: 0.8767\n",
      "Epoch 52/100\n",
      "3/3 [==============================] - 0s 9ms/step - loss: 1.2839 - accuracy: 0.9041\n",
      "Epoch 53/100\n",
      "3/3 [==============================] - 0s 9ms/step - loss: 1.2544 - accuracy: 0.9041\n",
      "Epoch 54/100\n",
      "3/3 [==============================] - 0s 10ms/step - loss: 1.2130 - accuracy: 0.9041\n",
      "Epoch 55/100\n",
      "3/3 [==============================] - 0s 9ms/step - loss: 1.1916 - accuracy: 0.9178\n",
      "Epoch 56/100\n",
      "3/3 [==============================] - 0s 10ms/step - loss: 1.1597 - accuracy: 0.9315\n",
      "Epoch 57/100\n",
      "3/3 [==============================] - 0s 10ms/step - loss: 1.1231 - accuracy: 0.9315\n",
      "Epoch 58/100\n",
      "3/3 [==============================] - 0s 9ms/step - loss: 1.0952 - accuracy: 0.9315\n",
      "Epoch 59/100\n",
      "3/3 [==============================] - 0s 9ms/step - loss: 1.0657 - accuracy: 0.9315\n",
      "Epoch 60/100\n",
      "3/3 [==============================] - 0s 10ms/step - loss: 1.0408 - accuracy: 0.9315\n",
      "Epoch 61/100\n",
      "3/3 [==============================] - 0s 9ms/step - loss: 1.0117 - accuracy: 0.9315\n",
      "Epoch 62/100\n",
      "3/3 [==============================] - 0s 10ms/step - loss: 0.9950 - accuracy: 0.9452\n",
      "Epoch 63/100\n",
      "3/3 [==============================] - 0s 12ms/step - loss: 0.9635 - accuracy: 0.9589\n",
      "Epoch 64/100\n",
      "3/3 [==============================] - 0s 9ms/step - loss: 0.9361 - accuracy: 0.9589\n",
      "Epoch 65/100\n",
      "3/3 [==============================] - 0s 10ms/step - loss: 0.9184 - accuracy: 0.9589\n",
      "Epoch 66/100\n",
      "3/3 [==============================] - 0s 11ms/step - loss: 0.8923 - accuracy: 0.9726\n",
      "Epoch 67/100\n",
      "3/3 [==============================] - 0s 10ms/step - loss: 0.8687 - accuracy: 0.9726\n",
      "Epoch 68/100\n",
      "3/3 [==============================] - 0s 9ms/step - loss: 0.8462 - accuracy: 0.9726\n",
      "Epoch 69/100\n",
      "3/3 [==============================] - 0s 11ms/step - loss: 0.8243 - accuracy: 0.9726\n",
      "Epoch 70/100\n",
      "3/3 [==============================] - 0s 17ms/step - loss: 0.8090 - accuracy: 0.9863\n",
      "Epoch 71/100\n",
      "3/3 [==============================] - 0s 10ms/step - loss: 0.7880 - accuracy: 0.9863\n",
      "Epoch 72/100\n",
      "3/3 [==============================] - 0s 11ms/step - loss: 0.7666 - accuracy: 0.9863\n",
      "Epoch 73/100\n",
      "3/3 [==============================] - 0s 10ms/step - loss: 0.7477 - accuracy: 0.9863\n",
      "Epoch 74/100\n",
      "3/3 [==============================] - 0s 10ms/step - loss: 0.7286 - accuracy: 0.9863\n",
      "Epoch 75/100\n",
      "3/3 [==============================] - 0s 11ms/step - loss: 0.7117 - accuracy: 0.9863\n",
      "Epoch 76/100\n",
      "3/3 [==============================] - 0s 10ms/step - loss: 0.6926 - accuracy: 0.9863\n",
      "Epoch 77/100\n",
      "3/3 [==============================] - 0s 10ms/step - loss: 0.6767 - accuracy: 0.9863\n",
      "Epoch 78/100\n",
      "3/3 [==============================] - 0s 11ms/step - loss: 0.6583 - accuracy: 1.0000\n",
      "Epoch 79/100\n",
      "3/3 [==============================] - 0s 10ms/step - loss: 0.6448 - accuracy: 1.0000\n",
      "Epoch 80/100\n",
      "3/3 [==============================] - 0s 10ms/step - loss: 0.6288 - accuracy: 1.0000\n",
      "Epoch 81/100\n",
      "3/3 [==============================] - 0s 10ms/step - loss: 0.6230 - accuracy: 1.0000\n",
      "Epoch 82/100\n",
      "3/3 [==============================] - 0s 11ms/step - loss: 0.6055 - accuracy: 1.0000\n",
      "Epoch 83/100\n",
      "3/3 [==============================] - 0s 9ms/step - loss: 0.5900 - accuracy: 1.0000\n",
      "Epoch 84/100\n",
      "3/3 [==============================] - 0s 10ms/step - loss: 0.5766 - accuracy: 1.0000\n",
      "Epoch 85/100\n",
      "3/3 [==============================] - 0s 10ms/step - loss: 0.5650 - accuracy: 1.0000\n",
      "Epoch 86/100\n",
      "3/3 [==============================] - 0s 11ms/step - loss: 0.5527 - accuracy: 1.0000\n",
      "Epoch 87/100\n",
      "3/3 [==============================] - 0s 11ms/step - loss: 0.5398 - accuracy: 1.0000\n",
      "Epoch 88/100\n",
      "3/3 [==============================] - 0s 10ms/step - loss: 0.5253 - accuracy: 1.0000\n",
      "Epoch 89/100\n",
      "3/3 [==============================] - 0s 12ms/step - loss: 0.5098 - accuracy: 1.0000\n",
      "Epoch 90/100\n",
      "3/3 [==============================] - 0s 10ms/step - loss: 0.5026 - accuracy: 1.0000\n",
      "Epoch 91/100\n",
      "3/3 [==============================] - 0s 9ms/step - loss: 0.4889 - accuracy: 1.0000\n",
      "Epoch 92/100\n",
      "3/3 [==============================] - 0s 18ms/step - loss: 0.4744 - accuracy: 1.0000\n",
      "Epoch 93/100\n",
      "3/3 [==============================] - 0s 11ms/step - loss: 0.4666 - accuracy: 1.0000\n",
      "Epoch 94/100\n",
      "3/3 [==============================] - 0s 11ms/step - loss: 0.4557 - accuracy: 1.0000\n",
      "Epoch 95/100\n",
      "3/3 [==============================] - 0s 12ms/step - loss: 0.4448 - accuracy: 1.0000\n",
      "Epoch 96/100\n",
      "3/3 [==============================] - 0s 12ms/step - loss: 0.4344 - accuracy: 1.0000\n",
      "Epoch 97/100\n",
      "3/3 [==============================] - 0s 10ms/step - loss: 0.4247 - accuracy: 1.0000\n",
      "Epoch 98/100\n",
      "3/3 [==============================] - 0s 9ms/step - loss: 0.4157 - accuracy: 1.0000\n",
      "Epoch 99/100\n",
      "3/3 [==============================] - 0s 11ms/step - loss: 0.4058 - accuracy: 1.0000\n",
      "Epoch 100/100\n",
      "3/3 [==============================] - 0s 10ms/step - loss: 0.3977 - accuracy: 1.0000\n",
      "<keras.src.engine.sequential.Sequential object at 0x2c416b310>\n"
     ]
    }
   ],
   "source": [
    "model = Sequential()\n",
    "\n",
    "# for my example, since it's a couple of haikus I'm decreasing the dimensions to 200\n",
    "model.add(Embedding(total_words, 800, input_length=max_sequence_len-1))\n",
    "model.add(Bidirectional(LSTM(25)))\n",
    "model.add(Dense(total_words, activation='softmax'))\n",
    "adam = Adam(lr=0.01)\n",
    "model.compile(loss='categorical_crossentropy', optimizer=adam, metrics=['accuracy'])\n",
    "#earlystop = EarlyStopping(monitor='val_loss', min_delta=0, patience=5, verbose=0, mode='auto')\n",
    "history = model.fit(xs, ys, epochs=100, verbose=1)\n",
    "#print model.summary()\n",
    "print(model)\n"
   ]
  },
  {
   "cell_type": "code",
   "execution_count": 18,
   "metadata": {},
   "outputs": [],
   "source": [
    "import matplotlib.pyplot as plt\n",
    "\n",
    "def plot_graphs(history, string):\n",
    "  plt.plot(history.history[string])\n",
    "  plt.xlabel(\"Epochs\")\n",
    "  plt.ylabel(string)\n",
    "  plt.show()"
   ]
  },
  {
   "cell_type": "code",
   "execution_count": 29,
   "metadata": {},
   "outputs": [
    {
     "data": {
      "image/png": "[encoded data removed]",
      "text/plain": [
       "<Figure size 640x480 with 1 Axes>"
      ]
     },
     "metadata": {},
     "output_type": "display_data"
    }
   ],
   "source": [
    "plot_graphs(history, 'accuracy')"
   ]
  },
  {
   "cell_type": "code",
   "execution_count": 35,
   "metadata": {},
   "outputs": [
    {
     "name": "stdout",
     "output_type": "stream",
     "text": [
      "1/1 [==============================] - 0s 17ms/step\n",
      "1/1 [==============================] - 0s 11ms/step\n",
      "1/1 [==============================] - 0s 11ms/step\n",
      "1/1 [==============================] - 0s 11ms/step\n",
      "1/1 [==============================] - 0s 11ms/step\n",
      "1/1 [==============================] - 0s 11ms/step\n",
      "1/1 [==============================] - 0s 11ms/step\n",
      "1/1 [==============================] - 0s 11ms/step\n",
      "1/1 [==============================] - 0s 11ms/step\n",
      "1/1 [==============================] - 0s 11ms/step\n",
      "1/1 [==============================] - 0s 11ms/step\n",
      "1/1 [==============================] - 0s 11ms/step\n",
      "1/1 [==============================] - 0s 12ms/step\n",
      "1/1 [==============================] - 0s 13ms/step\n",
      "1/1 [==============================] - 0s 11ms/step\n",
      "The moss on the log murkrow waits for dinner unlucky ratatta ratatta ratatta ratatta ratatta ratatta ratatta ratatta ratatta candle—\n"
     ]
    }
   ],
   "source": [
    "seed_text = \"The moss on the log\"\n",
    "next_words = 15\n",
    "  \n",
    "for _ in range(next_words):\n",
    "\ttoken_list = tokenizer.texts_to_sequences([seed_text])[0]\n",
    "\ttoken_list = pad_sequences([token_list], maxlen=max_sequence_len-1, padding='pre')\n",
    "\tpredicted = np.argmax(model.predict(token_list), axis=-1)\n",
    "\toutput_word = \"\"\n",
    "\tfor word, index in tokenizer.word_index.items():\n",
    "\t\tif index == predicted:\n",
    "\t\t\toutput_word = word\n",
    "\t\t\tbreak\n",
    "\tseed_text += \" \" + output_word\n",
    "print(seed_text)"
   ]
  }
 ],
 "metadata": {
  "kernelspec": {
   "display_name": "Python 3",
   "language": "python",
   "name": "python3"
  },
  "language_info": {
   "codemirror_mode": {
    "name": "ipython",
    "version": 3
   },
   "file_extension": ".py",
   "mimetype": "text/x-python",
   "name": "python",
   "nbconvert_exporter": "python",
   "pygments_lexer": "ipython3",
   "version": "3.11.5"
  }
 },
 "nbformat": 4,
 "nbformat_minor": 2
}
